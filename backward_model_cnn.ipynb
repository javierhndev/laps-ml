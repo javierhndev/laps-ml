{
 "cells": [
  {
   "cell_type": "code",
   "execution_count": 1,
   "id": "a7e998a9-0e0a-4b9a-a2cc-64b8cc1f82cb",
   "metadata": {},
   "outputs": [],
   "source": [
    "import pandas as pd\n",
    "import matplotlib.pyplot as plt\n",
    "import numpy as np\n",
    "\n",
    "import math\n",
    "import time\n",
    "\n",
    "from sklearn.model_selection import train_test_split\n",
    "from sklearn.ensemble import RandomForestRegressor\n",
    "\n",
    "import torch\n",
    "import torch.nn as nn\n",
    "import torch.optim as optim"
   ]
  },
  {
   "cell_type": "code",
   "execution_count": 2,
   "id": "340d754a-5a04-47ef-821e-03c9556a4ee1",
   "metadata": {},
   "outputs": [],
   "source": [
    "#get the shot number from the test index\n",
    "#(potential bug: pass the right df_input that has been used to create y_test. For example: df_input_clean)\n",
    "def get_shot_num(shot_index,y_test,df_input):\n",
    "    #print(y_test.iloc[shot_index])\n",
    "    #print(y_test.iloc[shot_index])\n",
    "    id_value=y_test.iloc[shot_index].name\n",
    "    #print(df_time_clean.loc[id_value])\n",
    "    #print(y_test_reset.loc[shot_index])\n",
    "    #print(df_input_clean.loc[id_value])\n",
    "    return(df_input['shot number'].loc[id_value])"
   ]
  },
  {
   "cell_type": "code",
   "execution_count": 3,
   "id": "648adea5-bc35-4be6-85f7-cb50bf260167",
   "metadata": {},
   "outputs": [],
   "source": [
    "#Drop the shots <8000 from the raw max distribution\n",
    "def clean_shots(df_input,df_time,df_freq_int):\n",
    "    maxval_freq=df_freq_int.max(axis=1)\n",
    "    meanval=maxval_freq.mean()\n",
    "    twosigma=2*maxval_freq.std()\n",
    "    print('')\n",
    "    print('Shots with max val below 8000 will be discarded')\n",
    "    print('')\n",
    "\n",
    "    #get the indexes of the shots that don't fulfilll the requirement\n",
    "    #badpoints_up=maxval_freq.index[(maxval_freq>(meanval+twosigma))].tolist()\n",
    "    badpoints_down=maxval_freq.index[(maxval_freq<8000)].tolist()\n",
    "\n",
    "    #Drop those shots from the databases\n",
    "    df_input_clean=df_input.drop(badpoints_down)\n",
    "\n",
    "    df_time_clean=df_time.drop(badpoints_down)\n",
    "\n",
    "    df_freq_int_clean=df_freq_int.drop(badpoints_down)\n",
    "\n",
    "    #reset their indexes\n",
    "    df_input_clean.reset_index(inplace=True,drop=True) #to start again from 0 (as the other DataFrames)\n",
    "    df_time_clean.reset_index(inplace=True,drop=True)\n",
    "    df_freq_int_clean.reset_index(inplace=True,drop=True)\n",
    "\n",
    "    #TESTING\n",
    "    #print('Testing!')\n",
    "    #print(df_freq_int_clean)\n",
    "    #test the histogram\n",
    "    #test_maxval_freq=df_freq_int_clean.max(axis=1)\n",
    "    #test_maxval_freq.hist(bins=50)\n",
    "    \n",
    "    return df_input_clean,df_time_clean,df_freq_int_clean"
   ]
  },
  {
   "cell_type": "code",
   "execution_count": null,
   "id": "b77d4b76-de68-4a84-adc5-843cb6ef763b",
   "metadata": {},
   "outputs": [],
   "source": []
  },
  {
   "cell_type": "markdown",
   "id": "c0fe0984-ce62-46e6-b627-b87367b07720",
   "metadata": {},
   "source": [
    "# READ DATASET"
   ]
  },
  {
   "cell_type": "code",
   "execution_count": 4,
   "id": "894d08e4-5b80-4c7a-882b-e57aedaba603",
   "metadata": {
    "scrolled": true
   },
   "outputs": [
    {
     "name": "stdout",
     "output_type": "stream",
     "text": [
      "Input DF\n",
      "       shot number  order2  order3     order4\n",
      "0             4731   34900  -17000 -3700000.0\n",
      "1             4733   34900  -17000 -4600000.0\n",
      "2             4734   34900  -17000 -4600000.0\n",
      "3             4735   34900  -17000 -4600000.0\n",
      "4             4736   34900  -17000 -4500000.0\n",
      "...            ...     ...     ...        ...\n",
      "12156        17147   35300   20000 -3800000.0\n",
      "12157        17148   35300   20000 -3800000.0\n",
      "12158        17149   35300   20000 -3800000.0\n",
      "12159        17150   35300   20000 -3700000.0\n",
      "12160        17151   35300   20000 -3700000.0\n",
      "\n",
      "[12161 rows x 4 columns]\n",
      "----\n",
      "Time values\n",
      "0    -94.466005\n",
      "1    -83.969782\n",
      "2    -73.473559\n",
      "3    -62.977336\n",
      "4    -52.481114\n",
      "5    -41.984891\n",
      "6    -31.488668\n",
      "7    -20.992445\n",
      "8    -10.496223\n",
      "9      0.000000\n",
      "10    10.496223\n",
      "11    20.992445\n",
      "12    31.488668\n",
      "13    41.984891\n",
      "14    52.481114\n",
      "15    62.977336\n",
      "16    73.473559\n",
      "17    83.969782\n",
      "18    94.466005\n",
      "Name: 0, dtype: float64\n",
      "----\n",
      "Intensity\n",
      "             0         1         2         3         4         5         6   \\\n",
      "0      0.001766  0.001688  0.011849  0.013215  0.007657  0.017952  0.043266   \n",
      "1      0.020483  0.015633  0.020804  0.023678  0.166658  0.112098  0.008360   \n",
      "2      0.022322  0.018719  0.022360  0.026733  0.171019  0.110176  0.006904   \n",
      "3      0.021571  0.017741  0.020970  0.027263  0.181804  0.120254  0.007778   \n",
      "4      0.006165  0.008668  0.015947  0.020773  0.187935  0.144496  0.009901   \n",
      "...         ...       ...       ...       ...       ...       ...       ...   \n",
      "12156  0.000081  0.001195  0.010204  0.023177  0.015640  0.025360  0.112122   \n",
      "12157  0.000079  0.000926  0.009772  0.021289  0.011771  0.023515  0.105938   \n",
      "12158  0.000190  0.002797  0.004494  0.017058  0.022993  0.008659  0.129312   \n",
      "12159  0.001309  0.021313  0.038438  0.031800  0.120421  0.046418  0.275574   \n",
      "12160  0.001105  0.018809  0.035496  0.028225  0.092651  0.037487  0.256488   \n",
      "\n",
      "             7         8         9         10        11        12        13  \\\n",
      "0      0.312250  0.902400  1.000000  0.352266  0.002066  0.044264  0.008406   \n",
      "1      0.265105  0.811617  1.000000  0.548914  0.133224  0.020927  0.008710   \n",
      "2      0.270487  0.818075  1.000000  0.552507  0.138130  0.021905  0.008509   \n",
      "3      0.276644  0.824608  1.000000  0.550096  0.137816  0.023370  0.010535   \n",
      "4      0.369212  0.947268  1.000000  0.480506  0.102585  0.025139  0.016277   \n",
      "...         ...       ...       ...       ...       ...       ...       ...   \n",
      "12156  0.291492  0.637284  1.000000  0.930220  0.472285  0.148387  0.078252   \n",
      "12157  0.275076  0.629608  1.000000  0.911338  0.447202  0.139272  0.073970   \n",
      "12158  0.249166  0.515231  1.000000  0.904923  0.375280  0.097221  0.058364   \n",
      "12159  0.774471  0.822312  0.916404  1.000000  0.687133  0.333589  0.162015   \n",
      "12160  0.664950  0.733104  0.916803  1.000000  0.645712  0.286671  0.133515   \n",
      "\n",
      "             14        15        16        17        18  \n",
      "0      0.017621  0.023445  0.001210  0.002506  0.001393  \n",
      "1      0.009739  0.005026  0.000250  0.003057  0.002962  \n",
      "2      0.009772  0.005012  0.000433  0.003760  0.003598  \n",
      "3      0.011883  0.005926  0.000578  0.003401  0.003854  \n",
      "4      0.008626  0.000792  0.004226  0.004048  0.000895  \n",
      "...         ...       ...       ...       ...       ...  \n",
      "12156  0.065446  0.048327  0.026633  0.007656  0.003423  \n",
      "12157  0.059556  0.044422  0.023392  0.005908  0.002892  \n",
      "12158  0.062067  0.056689  0.037244  0.011155  0.004559  \n",
      "12159  0.126573  0.144024  0.122938  0.081716  0.062803  \n",
      "12160  0.110387  0.127630  0.103253  0.062703  0.047191  \n",
      "\n",
      "[12161 rows x 19 columns]\n",
      "----\n",
      "Freq values\n",
      "0      699.949707\n",
      "1      700.222839\n",
      "2      700.495972\n",
      "3      700.769104\n",
      "4      701.042175\n",
      "          ...    \n",
      "758    899.181091\n",
      "759    899.432861\n",
      "760    899.684570\n",
      "761    899.936218\n",
      "762    900.187866\n",
      "Name: 0, Length: 763, dtype: float64\n",
      "----\n",
      "Frequency intesity\n",
      "             0          1          2          3          4          5    \\\n",
      "0      -7.888916 -30.888916 -48.888916  -3.888916 -23.888916 -24.888916   \n",
      "1     -28.111084 -24.111084 -20.111084 -13.111084   9.888916  11.888916   \n",
      "2      23.722229 -21.277771  13.722229   0.722229  -0.277771   4.722229   \n",
      "3      -9.611084 -17.611084  -9.611084  -9.611084 -41.611084  12.388916   \n",
      "4       8.000000 -13.000000  -2.000000 -21.000000 -10.000000  20.000000   \n",
      "...          ...        ...        ...        ...        ...        ...   \n",
      "12156  -3.000000 -28.000000   0.000000 -39.000000 -24.000000 -38.000000   \n",
      "12157 -39.111084 -45.111084  -1.111084 -21.111084  -9.111084 -36.111084   \n",
      "12158 -32.000000 -59.000000 -63.000000   8.000000  -3.000000 -16.000000   \n",
      "12159  -5.888916 -66.888916 -15.888916 -50.888916 -27.888916 -49.888916   \n",
      "12160 -42.888916 -68.888916 -42.888916 -44.888916  -7.888916 -22.888916   \n",
      "\n",
      "             6          7          8          9    ...        753        754  \\\n",
      "0     -37.888916 -40.888916 -48.888916  -2.888916  ... -67.888916 -55.888916   \n",
      "1     -32.111084 -16.111084   8.888916 -59.111084  ... -46.111084 -29.111084   \n",
      "2     -17.277771   9.722229 -16.277771  -3.277771  ... -41.277771 -15.277771   \n",
      "3     -17.611084 -41.611084 -29.611084 -23.611084  ...  14.388916 -47.611084   \n",
      "4      12.000000   5.000000  20.000000 -53.000000  ... -64.000000 -26.000000   \n",
      "...          ...        ...        ...        ...  ...        ...        ...   \n",
      "12156 -25.000000   1.000000 -42.000000 -11.000000  ... -35.000000 -15.000000   \n",
      "12157 -21.111084 -37.111084 -51.111084 -23.111084  ... -59.111084 -39.111084   \n",
      "12158 -17.000000 -41.000000   6.000000 -43.000000  ... -44.000000 -54.000000   \n",
      "12159 -46.888916 -28.888916 -28.888916 -20.888916  ... -78.888916 -57.888916   \n",
      "12160 -25.888916  -2.888916  38.111084 -26.888916  ... -46.888916 -32.888916   \n",
      "\n",
      "             755        756        757         758        759        760  \\\n",
      "0     -32.888916 -74.888916 -10.888916  -10.888916 -48.888916 -46.888916   \n",
      "1     -11.111084 -19.111084 -19.111084  -31.111084  -7.111084 -78.111084   \n",
      "2     -36.277771 -40.277771  -1.277771  -17.277771  -4.277771  -5.277771   \n",
      "3     -61.611084  21.388916 -17.611084   -3.611084 -54.611084 -45.611084   \n",
      "4     -23.000000 -52.000000 -24.000000  -26.000000  -9.000000 -25.000000   \n",
      "...          ...        ...        ...         ...        ...        ...   \n",
      "12156 -30.000000  10.000000 -41.000000  -26.000000 -62.000000 -56.000000   \n",
      "12157 -67.111084 -58.111084 -14.111084  -28.111084 -36.111084 -44.111084   \n",
      "12158 -54.000000 -61.000000 -52.000000  -56.000000 -63.000000 -51.000000   \n",
      "12159 -79.888916 -48.888916 -42.888916 -100.888916 -81.888916 -94.888916   \n",
      "12160  -1.888916 -43.888916 -43.888916  -46.888916 -63.888916 -37.888916   \n",
      "\n",
      "             761        762  \n",
      "0     -35.888916 -57.888916  \n",
      "1     -80.111084 -84.111084  \n",
      "2       4.722229 -25.277771  \n",
      "3     -49.611084 -21.611084  \n",
      "4     -22.000000 -24.000000  \n",
      "...          ...        ...  \n",
      "12156 -58.000000 -33.000000  \n",
      "12157 -40.111084 -42.111084  \n",
      "12158 -12.000000 -74.000000  \n",
      "12159 -75.888916 -22.888916  \n",
      "12160 -40.888916 -24.888916  \n",
      "\n",
      "[12161 rows x 763 columns]\n"
     ]
    }
   ],
   "source": [
    "df_input=pd.read_hdf('galadriel_dataset.h5','df_input')\n",
    "df_time=pd.read_hdf('galadriel_dataset.h5','df_time')\n",
    "df_freq_int=pd.read_hdf('galadriel_dataset.h5','df_freq_int')\n",
    "\n",
    "#get the arrays and print them\n",
    "print('Input DF')\n",
    "print(df_input)\n",
    "\n",
    "print('----')\n",
    "print('Time values')\n",
    "df_time_val=df_time.loc[0]\n",
    "print(df_time_val)\n",
    "\n",
    "print('----')\n",
    "print(\"Intensity\")\n",
    "df_time= df_time.drop([0]) #drop the time values\n",
    "df_time.reset_index(drop=True,inplace=True) #to start again from 0 (as the other DataFrames)\n",
    "print(df_time)\n",
    "\n",
    "print('----')\n",
    "print(\"Freq values\")\n",
    "df_freq_val=df_freq_int.loc[0]\n",
    "print(df_freq_val)\n",
    "\n",
    "print('----')\n",
    "print(\"Frequency intesity\")\n",
    "df_freq_int= df_freq_int.drop([0]) #drop the freq values\n",
    "df_freq_int.reset_index(drop=True,inplace=True)\n",
    "print(df_freq_int)"
   ]
  },
  {
   "cell_type": "code",
   "execution_count": 5,
   "id": "38a72b52-a4af-4c08-9ef7-0897cb96340b",
   "metadata": {},
   "outputs": [
    {
     "name": "stdout",
     "output_type": "stream",
     "text": [
      "\n",
      "Shots with max val below 8000 will be discarded\n",
      "\n"
     ]
    }
   ],
   "source": [
    "#Get the clean shots\n",
    "df_input_clean,df_time_clean,df_freq_int_clean=clean_shots(df_input,df_time,df_freq_int)"
   ]
  },
  {
   "cell_type": "code",
   "execution_count": 6,
   "id": "999fa79e-84fe-43a7-b770-a41f84cae87c",
   "metadata": {},
   "outputs": [
    {
     "data": {
      "text/html": [
       "<div>\n",
       "<style scoped>\n",
       "    .dataframe tbody tr th:only-of-type {\n",
       "        vertical-align: middle;\n",
       "    }\n",
       "\n",
       "    .dataframe tbody tr th {\n",
       "        vertical-align: top;\n",
       "    }\n",
       "\n",
       "    .dataframe thead th {\n",
       "        text-align: right;\n",
       "    }\n",
       "</style>\n",
       "<table border=\"1\" class=\"dataframe\">\n",
       "  <thead>\n",
       "    <tr style=\"text-align: right;\">\n",
       "      <th></th>\n",
       "      <th>shot number</th>\n",
       "      <th>order2</th>\n",
       "      <th>order3</th>\n",
       "      <th>order4</th>\n",
       "    </tr>\n",
       "  </thead>\n",
       "  <tbody>\n",
       "    <tr>\n",
       "      <th>count</th>\n",
       "      <td>12150.000000</td>\n",
       "      <td>12150.000000</td>\n",
       "      <td>12150.000000</td>\n",
       "      <td>1.215000e+04</td>\n",
       "    </tr>\n",
       "    <tr>\n",
       "      <th>mean</th>\n",
       "      <td>10969.523374</td>\n",
       "      <td>35096.588477</td>\n",
       "      <td>5574.320988</td>\n",
       "      <td>-4.116642e+06</td>\n",
       "    </tr>\n",
       "    <tr>\n",
       "      <th>std</th>\n",
       "      <td>3589.767554</td>\n",
       "      <td>127.187774</td>\n",
       "      <td>13403.691056</td>\n",
       "      <td>2.907178e+05</td>\n",
       "    </tr>\n",
       "    <tr>\n",
       "      <th>min</th>\n",
       "      <td>4733.000000</td>\n",
       "      <td>34900.000000</td>\n",
       "      <td>-17000.000000</td>\n",
       "      <td>-4.600000e+06</td>\n",
       "    </tr>\n",
       "    <tr>\n",
       "      <th>25%</th>\n",
       "      <td>7865.250000</td>\n",
       "      <td>35000.000000</td>\n",
       "      <td>-6000.000000</td>\n",
       "      <td>-4.400000e+06</td>\n",
       "    </tr>\n",
       "    <tr>\n",
       "      <th>50%</th>\n",
       "      <td>10977.500000</td>\n",
       "      <td>35100.000000</td>\n",
       "      <td>5000.000000</td>\n",
       "      <td>-4.100000e+06</td>\n",
       "    </tr>\n",
       "    <tr>\n",
       "      <th>75%</th>\n",
       "      <td>14082.750000</td>\n",
       "      <td>35200.000000</td>\n",
       "      <td>17000.000000</td>\n",
       "      <td>-3.900000e+06</td>\n",
       "    </tr>\n",
       "    <tr>\n",
       "      <th>max</th>\n",
       "      <td>17151.000000</td>\n",
       "      <td>35300.000000</td>\n",
       "      <td>29000.000000</td>\n",
       "      <td>-3.600000e+06</td>\n",
       "    </tr>\n",
       "  </tbody>\n",
       "</table>\n",
       "</div>"
      ],
      "text/plain": [
       "        shot number        order2        order3        order4\n",
       "count  12150.000000  12150.000000  12150.000000  1.215000e+04\n",
       "mean   10969.523374  35096.588477   5574.320988 -4.116642e+06\n",
       "std     3589.767554    127.187774  13403.691056  2.907178e+05\n",
       "min     4733.000000  34900.000000 -17000.000000 -4.600000e+06\n",
       "25%     7865.250000  35000.000000  -6000.000000 -4.400000e+06\n",
       "50%    10977.500000  35100.000000   5000.000000 -4.100000e+06\n",
       "75%    14082.750000  35200.000000  17000.000000 -3.900000e+06\n",
       "max    17151.000000  35300.000000  29000.000000 -3.600000e+06"
      ]
     },
     "execution_count": 6,
     "metadata": {},
     "output_type": "execute_result"
    }
   ],
   "source": [
    "df_input_clean.describe()"
   ]
  },
  {
   "cell_type": "code",
   "execution_count": 7,
   "id": "f951dfd5-9e74-4830-9cb2-023a41fd70c3",
   "metadata": {},
   "outputs": [],
   "source": [
    "#save the min and maximums for visualization purposes\n",
    "min_order2=df_input_clean['order2'].min()\n",
    "max_order2=df_input_clean['order2'].max()\n",
    "\n",
    "min_order3=df_input_clean['order3'].min()\n",
    "max_order3=df_input_clean['order3'].max()\n",
    "\n",
    "min_order4=df_input_clean['order4'].min()\n",
    "max_order4=df_input_clean['order4'].max()"
   ]
  },
  {
   "cell_type": "markdown",
   "id": "810d3edb-c922-4afd-a846-03ba2d00c72f",
   "metadata": {},
   "source": [
    "### Define input/target in the model"
   ]
  },
  {
   "cell_type": "code",
   "execution_count": 8,
   "id": "a565bc2c-25f2-43d2-b574-c9f5333e17bf",
   "metadata": {},
   "outputs": [],
   "source": [
    "#define input and output for the model\n",
    "\n",
    "y=df_input_clean[['order2','order3','order4']]\n",
    "X=df_time_clean\n",
    "\n",
    "#split into train and test set\n",
    "X_train, X_test, y_train, y_test = train_test_split(X, y, test_size=0.3, random_state=101)"
   ]
  },
  {
   "cell_type": "code",
   "execution_count": null,
   "id": "d27bf38b-b290-4900-8d0f-7d4daa2b4487",
   "metadata": {},
   "outputs": [],
   "source": []
  },
  {
   "cell_type": "code",
   "execution_count": 9,
   "id": "d9f7b272-8283-4f79-b3c4-1f86bf6e9d0b",
   "metadata": {},
   "outputs": [
    {
     "name": "stdout",
     "output_type": "stream",
     "text": [
      "23       0.746839\n",
      "4273     0.403606\n",
      "1046     1.090071\n",
      "9925     0.060373\n",
      "4816    -0.626092\n",
      "           ...   \n",
      "6828     1.433304\n",
      "4559    -0.282859\n",
      "4014     1.090071\n",
      "3894     0.403606\n",
      "10701    0.060373\n",
      "Name: order4, Length: 3645, dtype: float64\n"
     ]
    }
   ],
   "source": [
    "#normalize the target (dazzler parameters has different order of magnitude)\n",
    "y_train_reg = y_train.copy()\n",
    "y_test_reg=y_test.copy()\n",
    "\n",
    "y_train_reg['order2']= y_train_reg['order2']-y_train['order2'].mean()\n",
    "y_train_reg['order2']= y_train_reg['order2']/y_train['order2'].std()\n",
    "\n",
    "y_train_reg['order3']= y_train_reg['order3']-y_train['order3'].mean()\n",
    "y_train_reg['order3']= y_train_reg['order3']/y_train['order3'].std()\n",
    "\n",
    "y_train_reg['order4']= y_train_reg['order4']-y_train['order4'].mean()\n",
    "y_train_reg['order4']= y_train_reg['order4']/y_train['order4'].std()\n",
    "\n",
    "#Regularize the test dataset with the SAME values as the training set\n",
    "y_test_reg['order2']= y_test_reg['order2']-y_train['order2'].mean()\n",
    "y_test_reg['order2']= y_test_reg['order2']/y_train['order2'].std()\n",
    "\n",
    "y_test_reg['order3']= y_test_reg['order3']-y_train['order3'].mean()\n",
    "y_test_reg['order3']= y_test_reg['order3']/y_train['order3'].std()\n",
    "\n",
    "y_test_reg['order4']= y_test_reg['order4']-y_train['order4'].mean()\n",
    "y_test_reg['order4']= y_test_reg['order4']/y_train['order4'].std()\n",
    "\n",
    "#print(y_train['order2'].mean())\n",
    "#print(y_test_reg['order2'])\n",
    "print(y_test_reg['order4'])"
   ]
  },
  {
   "cell_type": "code",
   "execution_count": 10,
   "id": "af71bb4a-addd-4ac7-8a9d-bc8dd3eda4fc",
   "metadata": {},
   "outputs": [],
   "source": [
    "#convert to tensor (use regularized values)\n",
    "X_train_tensor=torch.tensor(X_train.values,dtype=torch.float32)\n",
    "y_train_tensor=torch.tensor(y_train_reg.values,dtype=torch.float32)\n",
    "\n",
    "X_test_tensor=torch.tensor(X_test.values,dtype=torch.float32)\n",
    "y_test_tensor=torch.tensor(y_test_reg.values,dtype=torch.float32)"
   ]
  },
  {
   "cell_type": "markdown",
   "id": "614fc269-c7f6-4a78-953b-8a4ae7670b8a",
   "metadata": {},
   "source": [
    "### Construct random forest to compare results"
   ]
  },
  {
   "cell_type": "code",
   "execution_count": 11,
   "id": "d22297fb-37ea-4641-b0c8-2d8368118e14",
   "metadata": {},
   "outputs": [],
   "source": [
    "forest_regr = RandomForestRegressor(n_estimators = 300, max_features = 'sqrt',max_depth=20, random_state=18)\n",
    "forest_regr.fit(X_train,y_train)\n",
    "\n",
    "y_predict_forest=forest_regr.predict(X_test)\n",
    "\n",
    "#Reset the index on y_test to have the same indexes as y_predict\n",
    "y_test_reset=y_test.reset_index(drop=True)\n",
    "\n",
    "df_error_forest=abs(y_test_reset-y_predict_forest)"
   ]
  },
  {
   "cell_type": "markdown",
   "id": "fb6431c4-b12a-4df3-90fc-4126991b5345",
   "metadata": {},
   "source": [
    "### Construct a fully connected NN to compare"
   ]
  },
  {
   "cell_type": "code",
   "execution_count": 12,
   "id": "d382e58c-723d-4942-a024-20d44b6c72df",
   "metadata": {},
   "outputs": [],
   "source": [
    "#define the neural network\n",
    "class perceptron(nn.Module):\n",
    "    def __init__(self):\n",
    "        super().__init__()\n",
    "        self.hidden1=nn.Linear(19,30)\n",
    "        self.act1= nn.ReLU()\n",
    "        self.hidden2=nn.Linear(30,30)\n",
    "        self.act2=nn.ReLU()\n",
    "        self.hidden3=nn.Linear(30,30)\n",
    "        self.act3=nn.ReLU()\n",
    "        self.hidden4=nn.Linear(30,25)\n",
    "        self.act4=nn.ReLU()\n",
    "        self.hidden5=nn.Linear(25,15)\n",
    "        self.act5=nn.ReLU()\n",
    "        self.hidden6=nn.Linear(15,10)\n",
    "        self.act6=nn.ReLU()\n",
    "        self.output=nn.Linear(10,3)\n",
    "\n",
    "    def forward(self,x):\n",
    "        x=self.act1(self.hidden1(x))\n",
    "        x=self.act2(self.hidden2(x))\n",
    "        x=self.act3(self.hidden3(x))\n",
    "        x=self.act4(self.hidden4(x))\n",
    "        x=self.act5(self.hidden5(x))\n",
    "        x=self.act6(self.hidden6(x))\n",
    "        x=self.output(x)\n",
    "        return x"
   ]
  },
  {
   "cell_type": "code",
   "execution_count": 13,
   "id": "4eccf877-8317-435c-834e-2f1f0a6e24c3",
   "metadata": {},
   "outputs": [
    {
     "name": "stdout",
     "output_type": "stream",
     "text": [
      "We are using: cuda\n"
     ]
    }
   ],
   "source": [
    "# set the device we will be using to train the model\n",
    "device = torch.device(\"cuda\" if torch.cuda.is_available() else \"cpu\")\n",
    "#device=\"cpu\"\n",
    "print(\"We are using:\",device)"
   ]
  },
  {
   "cell_type": "code",
   "execution_count": 14,
   "id": "ab34900e-2767-4bda-9d1c-1d45667b89e9",
   "metadata": {},
   "outputs": [
    {
     "name": "stdout",
     "output_type": "stream",
     "text": [
      "Finished epoch 0,latest loss 0.7955352663993835\n",
      "Finished epoch 10,latest loss 0.43874821066856384\n",
      "Finished epoch 20,latest loss 0.35815271735191345\n",
      "Finished epoch 30,latest loss 0.3002925515174866\n",
      "Finished epoch 40,latest loss 0.27244800329208374\n",
      "Finished epoch 50,latest loss 0.2576358914375305\n",
      "Finished epoch 60,latest loss 0.24797090888023376\n",
      "Finished epoch 70,latest loss 0.23864221572875977\n",
      "Finished epoch 80,latest loss 0.2314239740371704\n",
      "Finished epoch 90,latest loss 0.22444061934947968\n",
      "Finished epoch 100,latest loss 0.2193523794412613\n",
      "Finished epoch 110,latest loss 0.2130003571510315\n",
      "Finished epoch 120,latest loss 0.20722118020057678\n",
      "Finished epoch 130,latest loss 0.2030540406703949\n",
      "Finished epoch 140,latest loss 0.1988295018672943\n",
      "Finished epoch 150,latest loss 0.19439351558685303\n",
      "Finished epoch 160,latest loss 0.19103145599365234\n",
      "Finished epoch 170,latest loss 0.18829785287380219\n",
      "Finished epoch 180,latest loss 0.185507133603096\n",
      "Finished epoch 190,latest loss 0.18543025851249695\n",
      "Finished epoch 199,latest loss 0.1832844763994217\n",
      "Total time taken to train the model: 93.99s\n"
     ]
    }
   ],
   "source": [
    "#hyperparameters\n",
    "n_epochs=200\n",
    "batch_size=20\n",
    "print_freq=10\n",
    "learning_rate=0.001\n",
    "\n",
    "startTime = time.time()\n",
    "#Create the model and define the loss and optimizer\n",
    "nn_fc_model=perceptron().to(device)\n",
    "#nn_model=cnn().to(device)\n",
    "#print(nn_fc_model)\n",
    "\n",
    "loss_func=nn.MSELoss() #mean squared error\n",
    "optimizer = optim.Adam(nn_fc_model.parameters(), lr=learning_rate)\n",
    "\n",
    "#main training loop\n",
    "train_error=[]\n",
    "test_error=[]\n",
    "epoch_list=[]\n",
    "for epoch in range(n_epochs):\n",
    "    # set the model in training mode\n",
    "    nn_fc_model.train()\n",
    "\n",
    "    train_loss=0\n",
    "    for i in range(0,len(X_train_tensor),batch_size):\n",
    "        X_batch=X_train_tensor[i:i+batch_size]\n",
    "        y_batch=y_train_tensor[i:i+batch_size]\n",
    "        X_batch, y_batch =(X_batch.to(device), y_batch.to(device))\n",
    "        y_predict_nn=nn_fc_model(X_batch)\n",
    "        loss=loss_func(y_predict_nn,y_batch)\n",
    "        optimizer.zero_grad()\n",
    "        loss.backward()\n",
    "        optimizer.step()\n",
    "        train_loss += loss\n",
    "\n",
    "    #get training error\n",
    "    train_loss=train_loss/(len(X_train_tensor)/batch_size)\n",
    "    train_error.append(train_loss.detach().cpu().numpy())\n",
    "    #evaluate test error\n",
    "    with torch.no_grad():\n",
    "        nn_fc_model.eval()\n",
    "        (X_test_tensor, y_test_tensor) = (X_test_tensor.to(device), y_test_tensor.to(device))\n",
    "        y_predict_test=nn_fc_model(X_test_tensor)\n",
    "        test_loss=loss_func(y_predict_test,y_test_tensor)\n",
    "        test_error.append(test_loss.detach().cpu().numpy())\n",
    "\n",
    "    epoch_list.append(epoch+1)\n",
    "    \n",
    "    if(epoch%print_freq==0 or epoch+1==n_epochs):\n",
    "        print(f'Finished epoch {epoch},latest loss {train_loss}')\n",
    "#print(train_error)\n",
    "#print(test_error)\n",
    "endTime = time.time()\n",
    "print(\"Total time taken to train the model: {:.2f}s\".format(endTime - startTime))"
   ]
  },
  {
   "cell_type": "code",
   "execution_count": 15,
   "id": "63d53f3c-7431-424e-b6f5-ceb8fa2c3c42",
   "metadata": {},
   "outputs": [],
   "source": [
    "#Make the prediction (output is normalized)\n",
    "y_predict_fc_nn_tensor=nn_fc_model(X_test_tensor)\n",
    "y_predict_fc_nn_reg=y_predict_fc_nn_tensor.detach().cpu().numpy()\n",
    "\n",
    "#Revert the target regularization\n",
    "y_predict_fc_nn=y_predict_fc_nn_reg.copy()\n",
    "y_predict_fc_nn[:,0]=(y_predict_fc_nn_reg[:,0]*y_train['order2'].std())+y_train['order2'].mean()\n",
    "y_predict_fc_nn[:,1]=(y_predict_fc_nn_reg[:,1]*y_train['order3'].std())+y_train['order3'].mean()\n",
    "y_predict_fc_nn[:,2]=(y_predict_fc_nn_reg[:,2]*y_train['order4'].std())+y_train['order4'].mean()\n",
    "\n",
    "#Reset the index on y_test to have the same indexes as y_predict\n",
    "y_test_reset=y_test.reset_index(drop=True)\n",
    "\n",
    "#Estimate the error\n",
    "df_error_fc_nn=abs(y_test_reset-y_predict_fc_nn)"
   ]
  },
  {
   "cell_type": "code",
   "execution_count": null,
   "id": "3f7c3c2d-d448-43ca-b96c-154552570748",
   "metadata": {},
   "outputs": [],
   "source": []
  },
  {
   "cell_type": "code",
   "execution_count": null,
   "id": "1ad8f136-229a-4ab5-b478-0018c4a04d42",
   "metadata": {},
   "outputs": [],
   "source": []
  },
  {
   "cell_type": "code",
   "execution_count": null,
   "id": "50921b5a-25b4-41d4-b12e-9be169d4796c",
   "metadata": {},
   "outputs": [],
   "source": []
  },
  {
   "cell_type": "code",
   "execution_count": null,
   "id": "ea0ab24e-6dfb-4093-98fd-d774e51d8640",
   "metadata": {},
   "outputs": [],
   "source": []
  },
  {
   "cell_type": "markdown",
   "id": "de24ab90-b0a7-4c02-8de8-84a133476e57",
   "metadata": {},
   "source": [
    "## CREATE THE CONVOLUTIONAL NN"
   ]
  },
  {
   "cell_type": "markdown",
   "id": "6d7a5ba5-2ab0-464a-8c95-946f259ea3bb",
   "metadata": {},
   "source": [
    "### Define the network"
   ]
  },
  {
   "cell_type": "code",
   "execution_count": 16,
   "id": "8aede633-dd6e-4392-82e8-3ddbf74c6a75",
   "metadata": {},
   "outputs": [],
   "source": [
    "#define the neural network\n",
    "class cnn_small(nn.Module):\n",
    "    def __init__(self):\n",
    "        super().__init__()\n",
    "        \n",
    "        self.conv1 = nn.Conv1d(in_channels=1, out_channels=6, kernel_size=3, stride=1, padding=1)\n",
    "        self.act1= nn.ReLU()\n",
    "\n",
    "        self.pool1 = nn.MaxPool1d(kernel_size=2,stride=1)\n",
    "\n",
    "        self.conv2 = nn.Conv1d(in_channels=6, out_channels=10, kernel_size=3, stride=1, padding=1)\n",
    "        self.act2= nn.ReLU()\n",
    "        \n",
    "        self.pool2 = nn.MaxPool1d(kernel_size=3,stride=2)\n",
    "\n",
    "        self.flat = nn.Flatten()\n",
    "\n",
    "        self.fc3 = nn.Linear(80, 60)\n",
    "        self.act3= nn.ReLU()\n",
    "\n",
    "        self.fc4 = nn.Linear(60, 30)\n",
    "        self.act4= nn.ReLU()\n",
    "\n",
    "        self.fc5 = nn.Linear(30, 9)\n",
    "        self.act5= nn.ReLU()\n",
    "\n",
    "        self.output=nn.Linear(9,3)\n",
    "\n",
    "    def forward(self,x):\n",
    "        #input batchx1x19   output batchx6x19\n",
    "        x=self.act1(self.conv1(x))\n",
    "        #input batchx6x19   output batchx6x17\n",
    "        x=self.pool1(x)\n",
    "        \n",
    "        #input batchx6x17   output batchx10x17\n",
    "        x=self.act2(self.conv2(x))\n",
    "        #input batchx10x17   output batchx10x8\n",
    "        x=self.pool2(x)  \n",
    "        \n",
    "        #input batchx10x8 output batchx80\n",
    "        x=self.flat(x)\n",
    "        \n",
    "        #input batchx80   output batchx60\n",
    "        x=self.act3(self.fc3(x))\n",
    "        #input batchx60   output batchx30\n",
    "        x=self.act4(self.fc4(x))\n",
    "        #input batchx30   output batchx9\n",
    "        x=self.act5(self.fc5(x))\n",
    "        #input batchx9   output batchx3\n",
    "        x=self.output(x)\n",
    "        return x"
   ]
  },
  {
   "cell_type": "code",
   "execution_count": 17,
   "id": "06b35a7f-bb07-443a-b442-08c67dc6c861",
   "metadata": {},
   "outputs": [],
   "source": [
    "#define the neural network\n",
    "class cnn(nn.Module):\n",
    "    def __init__(self):\n",
    "        super().__init__()\n",
    "        \n",
    "        self.conv1 = nn.Conv1d(in_channels=1, out_channels=6, kernel_size=3, stride=1, padding=1)\n",
    "        self.act1= nn.ReLU()\n",
    "\n",
    "        self.pool1 = nn.MaxPool1d(kernel_size=2,stride=1)\n",
    "\n",
    "        self.conv2 = nn.Conv1d(in_channels=6, out_channels=12, kernel_size=3, stride=1, padding=1)\n",
    "        self.act2= nn.ReLU()\n",
    "        \n",
    "        self.pool2 = nn.MaxPool1d(kernel_size=3,stride=2)\n",
    "\n",
    "        self.conv3 = nn.Conv1d(in_channels=12, out_channels=20, kernel_size=3, stride=1, padding=1)\n",
    "        self.act3= nn.ReLU()\n",
    "        \n",
    "        self.pool3 = nn.MaxPool1d(kernel_size=2,stride=2)\n",
    "\n",
    "        self.flat = nn.Flatten()\n",
    "\n",
    "        self.fc4 = nn.Linear(80, 60)\n",
    "        self.act4= nn.ReLU()\n",
    "\n",
    "        self.fc5 = nn.Linear(60, 50)\n",
    "        self.act5= nn.ReLU()\n",
    "\n",
    "        self.fc6 = nn.Linear(50, 25)\n",
    "        self.act6= nn.ReLU()\n",
    "\n",
    "        self.output=nn.Linear(25,3)\n",
    "\n",
    "    def forward(self,x):\n",
    "        #input batchx1x19   output batchx6x19\n",
    "        x=self.act1(self.conv1(x))\n",
    "        #input batchx6x19   output batchx6x17\n",
    "        x=self.pool1(x)\n",
    "        \n",
    "        #input batchx6x17   output batchx12x17\n",
    "        x=self.act2(self.conv2(x))\n",
    "        #input batchx12x17   output batchx12x8\n",
    "        x=self.pool2(x) \n",
    "\n",
    "        #input batchx12x8   output batchx20x8\n",
    "        x=self.act3(self.conv3(x))\n",
    "        #input batchx20x8   output batchx20x4\n",
    "        x=self.pool3(x) \n",
    "        \n",
    "        #input batchx20x4 output batchx80\n",
    "        x=self.flat(x)\n",
    "        \n",
    "        #input batchx80   output batchx60\n",
    "        x=self.act4(self.fc4(x))\n",
    "        #input batchx60   output batchx50\n",
    "        x=self.act5(self.fc5(x))\n",
    "        #input batchx50   output batchx25\n",
    "        x=self.act6(self.fc6(x))\n",
    "        #input batchx25   output batchx3\n",
    "        x=self.output(x)\n",
    "        return x"
   ]
  },
  {
   "cell_type": "markdown",
   "id": "9a437f3e-749a-4cd7-9e2c-63e0d248e38d",
   "metadata": {},
   "source": [
    "## Training phase"
   ]
  },
  {
   "cell_type": "code",
   "execution_count": 18,
   "id": "88d50d18-8db2-4f94-a31b-07a9d4ece21f",
   "metadata": {},
   "outputs": [
    {
     "name": "stdout",
     "output_type": "stream",
     "text": [
      "We are using: cuda\n"
     ]
    }
   ],
   "source": [
    "# set the device we will be using to train the model\n",
    "device = torch.device(\"cuda\" if torch.cuda.is_available() else \"cpu\")\n",
    "#device=\"cpu\"\n",
    "print(\"We are using:\",device)"
   ]
  },
  {
   "cell_type": "code",
   "execution_count": 19,
   "id": "4ad88aca-c32c-4c93-8312-faa6ed92c918",
   "metadata": {},
   "outputs": [
    {
     "name": "stdout",
     "output_type": "stream",
     "text": [
      "Finished epoch 0,latest loss 0.8465750813484192\n",
      "Finished epoch 10,latest loss 0.4789237380027771\n",
      "Finished epoch 20,latest loss 0.3789263069629669\n",
      "Finished epoch 30,latest loss 0.32043740153312683\n",
      "Finished epoch 40,latest loss 0.28789594769477844\n",
      "Finished epoch 50,latest loss 0.2660587430000305\n",
      "Finished epoch 60,latest loss 0.2510644197463989\n",
      "Finished epoch 70,latest loss 0.24151255190372467\n",
      "Finished epoch 80,latest loss 0.23184499144554138\n",
      "Finished epoch 90,latest loss 0.22666795551776886\n",
      "Finished epoch 99,latest loss 0.2217349261045456\n",
      "Total time taken to train the model: 56.74s\n"
     ]
    }
   ],
   "source": [
    "#hyperparameters\n",
    "n_epochs=100\n",
    "batch_size=20\n",
    "print_freq=10\n",
    "learning_rate=0.001\n",
    "\n",
    "#MAIN LOOP\n",
    "startTime = time.time()\n",
    "#Create the model and define the loss and optimizer\n",
    "#nn_model=perceptron().to(device)\n",
    "nn_model=cnn().to(device)\n",
    "#print(nn_model)\n",
    "\n",
    "loss_func=nn.MSELoss() #mean squared error\n",
    "optimizer = optim.Adam(nn_model.parameters(), lr=learning_rate)\n",
    "\n",
    "#main training loop\n",
    "train_error=[]\n",
    "test_error=[]\n",
    "epoch_list=[]\n",
    "for epoch in range(n_epochs):\n",
    "    # set the model in training mode\n",
    "    nn_model.train()\n",
    "\n",
    "    train_loss=0\n",
    "    for i in range(0,len(X_train_tensor),batch_size):\n",
    "        X_batch=X_train_tensor[i:i+batch_size]\n",
    "        y_batch=y_train_tensor[i:i+batch_size]\n",
    "        X_batch=X_batch.unsqueeze(1)\n",
    "        ##y_batch=y_batch.unsqueeze(1)\n",
    "        X_batch, y_batch =(X_batch.to(device), y_batch.to(device))\n",
    "        y_predict_nn=nn_model(X_batch)\n",
    "        loss=loss_func(y_predict_nn,y_batch)\n",
    "        optimizer.zero_grad()\n",
    "        loss.backward()\n",
    "        optimizer.step()\n",
    "        train_loss += loss\n",
    "\n",
    "    #get training error\n",
    "    train_loss=train_loss/(len(X_train_tensor)/batch_size)\n",
    "    train_error.append(train_loss.detach().cpu().numpy())\n",
    "    #evaluate test error\n",
    "    with torch.no_grad():\n",
    "        nn_model.eval()\n",
    "        X_test_model=X_test_tensor.unsqueeze(1)\n",
    "        y_test_model=y_test_tensor#.unsqueeze(1)\n",
    "        (X_test_model, y_test_model) = (X_test_model.to(device), y_test_model.to(device))\n",
    "        y_predict_test=nn_model(X_test_model)\n",
    "        test_loss=loss_func(y_predict_test,y_test_model)\n",
    "        test_error.append(test_loss.detach().cpu().numpy())\n",
    "\n",
    "    epoch_list.append(epoch+1)\n",
    "    \n",
    "    if(epoch%print_freq==0 or epoch+1==n_epochs):\n",
    "        print(f'Finished epoch {epoch},latest loss {train_loss}')\n",
    "#print(train_error)\n",
    "#print(test_error)\n",
    "endTime = time.time()\n",
    "print(\"Total time taken to train the model: {:.2f}s\".format(endTime - startTime))"
   ]
  },
  {
   "cell_type": "code",
   "execution_count": null,
   "id": "d2f517f7-6b8d-4dff-8bcb-4af636c613b5",
   "metadata": {},
   "outputs": [],
   "source": []
  },
  {
   "cell_type": "markdown",
   "id": "31962264-1c41-44aa-8905-0f3fbd5112ad",
   "metadata": {},
   "source": [
    "## Model performace"
   ]
  },
  {
   "cell_type": "code",
   "execution_count": 20,
   "id": "da7f2c7a-48b4-4434-a64e-6768eef4fe2e",
   "metadata": {},
   "outputs": [
    {
     "data": {
      "text/plain": [
       "<matplotlib.legend.Legend at 0x7036fd87bd90>"
      ]
     },
     "execution_count": 20,
     "metadata": {},
     "output_type": "execute_result"
    },
    {
     "data": {
      "image/png": "[encoded data removed]",
      "text/plain": [
       "<Figure size 640x480 with 1 Axes>"
      ]
     },
     "metadata": {},
     "output_type": "display_data"
    }
   ],
   "source": [
    "plt.plot(epoch_list,train_error,label='Train error')\n",
    "plt.plot(epoch_list,test_error,label='Test error')\n",
    "plt.ylabel('MSE')\n",
    "plt.xlabel('Epoch')\n",
    "plt.legend()"
   ]
  },
  {
   "cell_type": "markdown",
   "id": "d8a95499-edf3-4492-94a7-d81626e82f7f",
   "metadata": {},
   "source": [
    "### Predictions"
   ]
  },
  {
   "cell_type": "code",
   "execution_count": 21,
   "id": "e60262fd-8338-470f-bfd3-d473bfe5f8cd",
   "metadata": {},
   "outputs": [],
   "source": [
    "#Make the prediction (output is normalized)\n",
    "y_predict_nn_tensor=nn_model(X_test_model)\n",
    "y_predict_nn_reg=y_predict_nn_tensor.detach().cpu().numpy()\n",
    "\n",
    "#Revert the target regularization\n",
    "y_predict_nn=y_predict_nn_reg.copy()\n",
    "y_predict_nn[:,0]=(y_predict_nn_reg[:,0]*y_train['order2'].std())+y_train['order2'].mean()\n",
    "y_predict_nn[:,1]=(y_predict_nn_reg[:,1]*y_train['order3'].std())+y_train['order3'].mean()\n",
    "y_predict_nn[:,2]=(y_predict_nn_reg[:,2]*y_train['order4'].std())+y_train['order4'].mean()\n",
    "\n",
    "#Reset the index on y_test to have the same indexes as y_predict\n",
    "y_test_reset=y_test.reset_index(drop=True)"
   ]
  },
  {
   "cell_type": "code",
   "execution_count": null,
   "id": "1a18377b-40b8-43a4-9af7-20a38067057f",
   "metadata": {},
   "outputs": [],
   "source": []
  },
  {
   "cell_type": "code",
   "execution_count": null,
   "id": "4f1dc9d8-f7bd-45b0-9881-88177f08d70f",
   "metadata": {},
   "outputs": [],
   "source": []
  },
  {
   "cell_type": "code",
   "execution_count": 22,
   "id": "0ea57c94-edb9-45a8-8bfd-1941185b349e",
   "metadata": {},
   "outputs": [
    {
     "data": {
      "image/png": "[encoded data removed]",
      "text/plain": [
       "<Figure size 640x480 with 3 Axes>"
      ]
     },
     "metadata": {},
     "output_type": "display_data"
    }
   ],
   "source": [
    "#plot a random prediction\n",
    "\n",
    "shot_index=220 #this is not the shot number, nor the original index. It is the index from the model output\n",
    "shot_numb=get_shot_num(shot_index,y_test,df_input_clean)\n",
    "y_temp=[0]\n",
    "fig, ax = plt.subplots(3, 1, layout='constrained')\n",
    "#ax = plt.subplots(3,1) #upper plot\n",
    "ax[0].scatter(y_test_reset['order2'].loc[shot_index],y_temp,200,label='Test')\n",
    "ax[0].scatter(y_predict_nn[shot_index][0],y_temp,200,label='prediction',marker='s')\n",
    "ax[0].spines['top'].set_visible(False)\n",
    "ax[0].spines['right'].set_visible(False)\n",
    "ax[0].spines['left'].set_visible(False)\n",
    "ax[0].yaxis.set_visible(False)\n",
    "ax[0].spines['bottom'].set_position('zero')\n",
    "ax[0].set_xlabel('order 2')\n",
    "ax[0].set_xlim(min_order2,max_order2)\n",
    "#plt.xlim(min_order2,max_order2)\n",
    "#plt.show()\n",
    "\n",
    "#ax2 = plt.subplot(3,2) #mid plot\n",
    "ax[1].scatter(y_test_reset['order3'].loc[shot_index],y_temp,200,label='Test')\n",
    "ax[1].scatter(y_predict_nn[shot_index][1],y_temp,200,label='prediction',marker='s')\n",
    "ax[1].spines['top'].set_visible(False)\n",
    "ax[1].spines['right'].set_visible(False)\n",
    "ax[1].spines['left'].set_visible(False)\n",
    "ax[1].yaxis.set_visible(False)\n",
    "ax[1].spines['bottom'].set_position('zero')\n",
    "ax[1].set_xlabel('order 3')\n",
    "ax[1].set_xlim(min_order3,max_order3)\n",
    "#plt.xlim(min_order3,max_order3)\n",
    "#plt.show()\n",
    "\n",
    "\n",
    "#ax3 = plt.subplot(3,3) #lower plot\n",
    "ax[2].scatter(y_test_reset['order4'].loc[shot_index],y_temp,200,label='Test (shot #'+str(shot_numb)+')')\n",
    "ax[2].scatter(y_predict_nn[shot_index][2],y_temp,200,label='prediction',marker='s')\n",
    "ax[2].spines['top'].set_visible(False)\n",
    "ax[2].spines['right'].set_visible(False)\n",
    "ax[2].spines['left'].set_visible(False)\n",
    "ax[2].yaxis.set_visible(False)\n",
    "ax[2].spines['bottom'].set_position('zero')\n",
    "ax[2].set_xlabel('order 4')\n",
    "plt.xlim(min_order4,max_order4)\n",
    "plt.legend()\n",
    "plt.show()"
   ]
  },
  {
   "cell_type": "code",
   "execution_count": 23,
   "id": "a98d5449-dbf3-4e0c-8328-6a677e5d8934",
   "metadata": {},
   "outputs": [],
   "source": [
    "df_error_nn=abs(y_test_reset-y_predict_nn)"
   ]
  },
  {
   "cell_type": "code",
   "execution_count": 24,
   "id": "e675cfde-f5a9-4bde-8668-dac75095d51b",
   "metadata": {},
   "outputs": [
    {
     "data": {
      "image/png": "[encoded data removed]",
      "text/plain": [
       "<Figure size 640x480 with 1 Axes>"
      ]
     },
     "metadata": {},
     "output_type": "display_data"
    },
    {
     "name": "stdout",
     "output_type": "stream",
     "text": [
      "The average error for order2 is 11.13%\n",
      " \n",
      " \n"
     ]
    },
    {
     "data": {
      "image/png": "[encoded data removed]",
      "text/plain": [
       "<Figure size 640x480 with 1 Axes>"
      ]
     },
     "metadata": {},
     "output_type": "display_data"
    },
    {
     "name": "stdout",
     "output_type": "stream",
     "text": [
      "The average error for order3 is 3.79%\n",
      " \n",
      " \n"
     ]
    },
    {
     "data": {
      "image/png": "[encoded data removed]",
      "text/plain": [
       "<Figure size 640x480 with 1 Axes>"
      ]
     },
     "metadata": {},
     "output_type": "display_data"
    },
    {
     "name": "stdout",
     "output_type": "stream",
     "text": [
      "The average error for order4 is 11.86%\n",
      " \n",
      " \n"
     ]
    }
   ],
   "source": [
    "weights_forest_order2 = 100*np.ones_like(df_error_forest['order2']) / len(df_error_forest['order2'])\n",
    "weights_nn_order2 = 100*np.ones_like(df_error_nn['order2']) / len(df_error_nn['order2'])\n",
    "df_error_nn['order2'].hist(bins=30,label='CNN',cumulative=True,weights=weights_nn_order2,histtype=\"step\",linewidth=2.5)\n",
    "df_error_fc_nn['order2'].hist(bins=30,label='FC NN',cumulative=True,weights=weights_nn_order2,histtype=\"step\",linewidth=2.5)\n",
    "df_error_forest['order2'].hist(bins=30,alpha=0.5,label='Random forest',cumulative=True,weights=weights_forest_order2,histtype=\"step\",linewidth=2.5)\n",
    "plt.xlabel('Error')\n",
    "plt.ylabel('% shots')\n",
    "plt.title('Cumulative Histogram error order2 prediction (total num. shots='+str(len(df_error_forest))+')')\n",
    "plt.xlim(0,max_order2-min_order2)\n",
    "plt.legend()\n",
    "plt.show()\n",
    "\n",
    "avg_error=100*df_error_nn['order2'].mean()/(max_order2-min_order2)\n",
    "print('The average error for order2 is {:4.2f}%'.format(avg_error))\n",
    "print(' ')\n",
    "print(' ')\n",
    "\n",
    "weights_forest_order3 = 100*np.ones_like(df_error_forest['order3']) / len(df_error_forest['order3'])\n",
    "weights_nn_order3 = 100*np.ones_like(df_error_nn['order3']) / len(df_error_nn['order3'])\n",
    "df_error_nn['order3'].hist(bins=30,label='CNN',cumulative=True,weights=weights_nn_order3,histtype=\"step\",linewidth=2.5)\n",
    "df_error_fc_nn['order3'].hist(bins=30,label='FC NN',cumulative=True,weights=weights_nn_order3,histtype=\"step\",linewidth=2.5)\n",
    "df_error_forest['order3'].hist(bins=30,alpha=0.5,label='Random forest',cumulative=True,weights=weights_forest_order3,histtype=\"step\",linewidth=2.5)\n",
    "plt.xlabel('Error')\n",
    "plt.ylabel('% shots')\n",
    "plt.title('Cumulative Histogram error order3 prediction (total num. shots='+str(len(df_error_nn))+')')\n",
    "plt.xlim(0,max_order3-min_order3)\n",
    "plt.legend()\n",
    "plt.show()\n",
    "\n",
    "avg_error=100*df_error_nn['order3'].mean()/(max_order3-min_order3)\n",
    "print('The average error for order3 is {:4.2f}%'.format(avg_error))\n",
    "print(' ')\n",
    "print(' ')\n",
    "\n",
    "weights_forest_order4 = 100*np.ones_like(df_error_forest['order4']) / len(df_error_forest['order4'])\n",
    "weights_nn_order4 = 100*np.ones_like(df_error_nn['order4']) / len(df_error_nn['order4'])\n",
    "df_error_nn['order4'].hist(bins=30,label='CNN',cumulative=True,weights=weights_nn_order4,histtype=\"step\",linewidth=2.5)\n",
    "df_error_fc_nn['order4'].hist(bins=30,label='FC NN',cumulative=True,weights=weights_nn_order4,histtype=\"step\",linewidth=2.5)\n",
    "df_error_forest['order4'].hist(bins=30,alpha=0.5,label='Random forest',cumulative=True,weights=weights_forest_order4,histtype=\"step\",linewidth=2.5)\n",
    "plt.xlabel('Error')\n",
    "plt.ylabel('% shots')\n",
    "plt.title('Cumulative Histogram error order4 prediction (total num. shots='+str(len(df_error_nn))+')')\n",
    "plt.xlim(0,max_order4-min_order4)\n",
    "plt.legend()\n",
    "plt.show()\n",
    "\n",
    "avg_error=100*df_error_nn['order4'].mean()/(max_order4-min_order4)\n",
    "print('The average error for order4 is {:4.2f}%'.format(avg_error))\n",
    "print(' ')\n",
    "print(' ')"
   ]
  },
  {
   "cell_type": "code",
   "execution_count": null,
   "id": "2138bdd3-97b7-460c-947b-8a299540e64f",
   "metadata": {},
   "outputs": [],
   "source": []
  },
  {
   "cell_type": "code",
   "execution_count": null,
   "id": "c30a400b-3352-47d5-93cb-81d28903760f",
   "metadata": {},
   "outputs": [],
   "source": []
  },
  {
   "cell_type": "code",
   "execution_count": 25,
   "id": "a4247fb2-8bbd-43cf-b815-c56fc4628a56",
   "metadata": {},
   "outputs": [],
   "source": [
    "pytorch_total_params = sum(p.numel() for p in nn_model.parameters() if p.requires_grad)"
   ]
  },
  {
   "cell_type": "code",
   "execution_count": 26,
   "id": "37e1403a-90ce-4625-a8db-79054e29e04f",
   "metadata": {},
   "outputs": [
    {
     "data": {
      "text/plain": [
       "10255"
      ]
     },
     "execution_count": 26,
     "metadata": {},
     "output_type": "execute_result"
    }
   ],
   "source": [
    "pytorch_total_params"
   ]
  },
  {
   "cell_type": "code",
   "execution_count": null,
   "id": "8cd3ca51-eb1f-4565-b60a-e1c07a8d8316",
   "metadata": {},
   "outputs": [],
   "source": []
  }
 ],
 "metadata": {
  "kernelspec": {
   "display_name": "venv_galadriel",
   "language": "python",
   "name": "venv_galadriel"
  },
  "language_info": {
   "codemirror_mode": {
    "name": "ipython",
    "version": 3
   },
   "file_extension": ".py",
   "mimetype": "text/x-python",
   "name": "python",
   "nbconvert_exporter": "python",
   "pygments_lexer": "ipython3",
   "version": "3.10.12"
  }
 },
 "nbformat": 4,
 "nbformat_minor": 5
}
